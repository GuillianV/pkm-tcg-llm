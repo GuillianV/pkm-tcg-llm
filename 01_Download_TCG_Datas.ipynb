{
 "cells": [
  {
   "cell_type": "markdown",
   "id": "1376111f",
   "metadata": {},
   "source": [
    "# Downloading tcg datas"
   ]
  },
  {
   "cell_type": "markdown",
   "id": "28b451bb",
   "metadata": {},
   "source": [
    "### Imports & Setup the environment"
   ]
  },
  {
   "cell_type": "code",
   "execution_count": 2,
   "id": "80daa8bc",
   "metadata": {},
   "outputs": [
    {
     "data": {
      "text/plain": [
       "True"
      ]
     },
     "execution_count": 2,
     "metadata": {},
     "output_type": "execute_result"
    }
   ],
   "source": [
    "# Made on python 3.12\n",
    "\n",
    "import pandas as pd #library for data analysis\n",
    "import numpy as np #library for scientific computing with Python\n",
    "import matplotlib.pyplot as plt #library for creating static, animated, and interactive visualizations\n",
    "import cv2 #Manipulate images and videos,\n",
    "import os #manage files and directories\n",
    "from PIL import Image # Python Imaging Library adds image processing capabilities to your Python interpreter. \n",
    "from dotenv import load_dotenv #load environment variables from .env file\n",
    "import math #mathematical functions\n",
    "import json #library for working with JSON\n",
    "import requests #library for making HTTP requests\n",
    "\n",
    "\n",
    "load_dotenv()\n"
   ]
  },
  {
   "cell_type": "markdown",
   "id": "c911cb71",
   "metadata": {},
   "source": [
    "### Global variables"
   ]
  },
  {
   "cell_type": "code",
   "execution_count": 3,
   "id": "c93bc0bb",
   "metadata": {},
   "outputs": [],
   "source": [
    "API_NINJA_API_KEY = os.getenv(\"API_NINJA_API_KEY\")\n",
    "TCG_POKEMON_API_KEY = os.getenv(\"TCG_POKEMON_API_KEY\")\n",
    "TCG_POKEMON_MAX_CARDS_EXISTING = 19501\n",
    "TCG_POKEMON_MAX_POKEMON_PER_PAGE = 250\n",
    "WINDOWS_DATA_FOLDER=\"/mnt/e/code/ai/data/tcg/\"\n",
    "DATA_TCG_FOLDER_PATH = \"data/tcg/\"\n",
    "IS_WSL = True\n",
    "if IS_WSL :\n",
    "    DATA_TCG_FOLDER_PATH = WINDOWS_DATA_FOLDER + DATA_TCG_FOLDER_PATH"
   ]
  },
  {
   "cell_type": "markdown",
   "id": "867f5d5c",
   "metadata": {},
   "source": [
    "### Configuration"
   ]
  },
  {
   "cell_type": "code",
   "execution_count": 4,
   "id": "95362d84",
   "metadata": {},
   "outputs": [
    {
     "name": "stdout",
     "output_type": "stream",
     "text": [
      "/mnt/e/code/ai/data/tcg/data/tcg/ folder created\n"
     ]
    }
   ],
   "source": [
    "\n",
    "if not os.path.exists(DATA_TCG_FOLDER_PATH):\n",
    "    os.makedirs(DATA_TCG_FOLDER_PATH)\n",
    "    print(DATA_TCG_FOLDER_PATH +\" folder created\")"
   ]
  },
  {
   "cell_type": "markdown",
   "id": "2ba6043d",
   "metadata": {},
   "source": [
    "### Downloading all the pokemons tcg datas to json"
   ]
  },
  {
   "cell_type": "code",
   "execution_count": 5,
   "id": "29ed2588",
   "metadata": {},
   "outputs": [
    {
     "name": "stdout",
     "output_type": "stream",
     "text": [
      "-> 1 Downloading cards datas\n",
      "-> 2 All cards datas downloaded\n"
     ]
    }
   ],
   "source": [
    "def download_tcg_cards_datas():\n",
    "    #Retrieve all cards from pokemontcg.io\n",
    "    if os.listdir(DATA_TCG_FOLDER_PATH).__len__() == TCG_POKEMON_MAX_CARDS_EXISTING :\n",
    "        print('-> 0 Cards already exist')\n",
    "        return\n",
    "\n",
    "    print('-> 1 Downloading cards datas')\n",
    "    for i in range(1, math.ceil(TCG_POKEMON_MAX_CARDS_EXISTING / TCG_POKEMON_MAX_POKEMON_PER_PAGE) + 1):\n",
    "        response = requests.get('https://api.pokemontcg.io/v2/cards?page=' + str(i), headers={\"X-Api-Key\":TCG_POKEMON_API_KEY})\n",
    "        if response.status_code == 200:\n",
    "            cards = response.json()\n",
    "\n",
    "            for card in cards[\"data\"]:\n",
    "                try:\n",
    "                    with open(DATA_TCG_FOLDER_PATH + card[\"id\"] + '.json', 'w', encoding='utf-8') as f:\n",
    "                        json.dump(card, f,default=lambda o: o.__dict__, indent=4, sort_keys=False, ensure_ascii=True)\n",
    "                except Exception as e:\n",
    "                    print(\"Error on card : \",card[\"id\"])\n",
    "                    print(e)\n",
    "    print('-> 2 All cards datas downloaded')\n",
    "    \n",
    "download_tcg_cards_datas()"
   ]
  }
 ],
 "metadata": {
  "kernelspec": {
   "display_name": "tf",
   "language": "python",
   "name": "python3"
  },
  "language_info": {
   "codemirror_mode": {
    "name": "ipython",
    "version": 3
   },
   "file_extension": ".py",
   "mimetype": "text/x-python",
   "name": "python",
   "nbconvert_exporter": "python",
   "pygments_lexer": "ipython3",
   "version": "3.12.11"
  }
 },
 "nbformat": 4,
 "nbformat_minor": 5
}
