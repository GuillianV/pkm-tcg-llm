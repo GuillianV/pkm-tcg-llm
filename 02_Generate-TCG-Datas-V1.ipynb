{
 "cells": [
  {
   "cell_type": "markdown",
   "id": "6825d7eb",
   "metadata": {},
   "source": [
    "# Downloading tcg datas"
   ]
  },
  {
   "cell_type": "markdown",
   "id": "92ee874d",
   "metadata": {},
   "source": [
    "### Imports & Setup the environment"
   ]
  },
  {
   "cell_type": "code",
   "execution_count": 415,
   "id": "e5357f73",
   "metadata": {},
   "outputs": [
    {
     "data": {
      "text/plain": [
       "True"
      ]
     },
     "execution_count": 415,
     "metadata": {},
     "output_type": "execute_result"
    }
   ],
   "source": [
    "# Made on python 3.12\n",
    "\n",
    "import pandas as pd #library for data analysis\n",
    "import numpy as np #library for scientific computing with Python\n",
    "import matplotlib.pyplot as plt #library for creating static, animated, and interactive visualizations\n",
    "from matplotlib.image import imread #library for reading and writing image files\n",
    "import cv2 #Manipulate images and videos,\n",
    "import os #manage files and directories\n",
    "from PIL import Image ,ImageOps # Python Imaging Library adds image processing capabilities to your Python interpreter. \n",
    "from dotenv import load_dotenv #load environment variables from .env file\n",
    "import math #mathematical functions\n",
    "import json #library for working with JSON\n",
    "import requests #library for making HTTP requests\n",
    "import shutil #library for copying and moving files\n",
    "import io\n",
    "import urllib.request\n",
    "import base64\n",
    "from imageio import imread\n",
    "import random\n",
    "from random import randrange\n",
    "import time\n",
    "\n",
    "load_dotenv()\n"
   ]
  },
  {
   "cell_type": "markdown",
   "id": "aad89dfb",
   "metadata": {},
   "source": [
    "### Global variables"
   ]
  },
  {
   "cell_type": "code",
   "execution_count": 7,
   "id": "f1764553",
   "metadata": {},
   "outputs": [],
   "source": [
    "API_NINJA_API_KEY = os.getenv(\"API_NINJA_API_KEY\")\n",
    "TCG_POKEMON_API_KEY = os.getenv(\"TCG_POKEMON_API_KEY\")\n",
    "TCG_POKEMON_MAX_CARDS_EXISTING = 19501\n",
    "TCG_POKEMON_MAX_POKEMON_PER_PAGE = 250\n",
    "DATA_TCG_FOLDER_PATH = \"data/tcg/\"\n",
    "GENERATED_DATAS_V1_FOLDER_PATH = \"data/generated_datas_v1/\"\n",
    "GENERATED_DATAS_V1_IMAGES_FOLDER_PATH = GENERATED_DATAS_V1_FOLDER_PATH + \"images/\"\n",
    "GENERATED_DATAS_V1_JSON_FOLDER_PATH = GENERATED_DATAS_V1_FOLDER_PATH + \"json/\"\n"
   ]
  },
  {
   "cell_type": "markdown",
   "id": "c75ffce3",
   "metadata": {},
   "source": [
    "### Configuration"
   ]
  },
  {
   "cell_type": "code",
   "execution_count": 9,
   "id": "9f7e549d",
   "metadata": {},
   "outputs": [],
   "source": [
    "if not os.path.exists(GENERATED_DATAS_V1_FOLDER_PATH):\n",
    "    os.makedirs(GENERATED_DATAS_V1_FOLDER_PATH)\n",
    "    print(GENERATED_DATAS_V1_FOLDER_PATH +\" folder created\")\n",
    "\n",
    "if not os.path.exists(GENERATED_DATAS_V1_IMAGES_FOLDER_PATH):\n",
    "    os.makedirs(GENERATED_DATAS_V1_IMAGES_FOLDER_PATH)\n",
    "    print(GENERATED_DATAS_V1_IMAGES_FOLDER_PATH +\" folder created\")\n",
    "\n",
    "if not os.path.exists(GENERATED_DATAS_V1_JSON_FOLDER_PATH):\n",
    "    os.makedirs(GENERATED_DATAS_V1_JSON_FOLDER_PATH)\n",
    "    print(GENERATED_DATAS_V1_JSON_FOLDER_PATH +\" folder created\")"
   ]
  },
  {
   "cell_type": "markdown",
   "id": "4f108bfa",
   "metadata": {},
   "source": [
    "### Load a random image for the background"
   ]
  },
  {
   "cell_type": "code",
   "execution_count": 220,
   "id": "b1fc9437",
   "metadata": {},
   "outputs": [],
   "source": [
    "\n",
    "def load_random_image(**kwargs):\n",
    "    RESIZE_SIZES = kwargs.get(\"RESIZE_SIZES\")\n",
    "    RGB_COLOR = kwargs.get(\"RGB_COLOR\")\n",
    "    if RGB_COLOR == None:\n",
    "        RGB_COLOR = True\n",
    "    response = requests.get(\"https://api.api-ninjas.com/v1/randomimage\",headers={\"X-Api-Key\": API_NINJA_API_KEY, 'Accept': 'image/jpg'})\n",
    "    image = Image.open(BytesIO(response.content))\n",
    "    if RESIZE_SIZES:\n",
    "        image = image.resize(RESIZE_SIZES)\n",
    "    if RGB_COLOR == False:\n",
    "        image = ImageOps.grayscale(image)\n",
    "    return image\n",
    "\n",
    "\n"
   ]
  },
  {
   "cell_type": "code",
   "execution_count": 217,
   "id": "27ca74b3",
   "metadata": {},
   "outputs": [],
   "source": [
    "TCG_CARDS_IDS_LIST = os.listdir(DATA_TCG_FOLDER_PATH)\n",
    "\n",
    "def load_tcg_data(**kwargs):\n",
    "    card_id = kwargs.get(\"card_id\")\n",
    "    if card_id == None:\n",
    "        card_id = random.choice(TCG_CARDS_IDS_LIST)\n",
    "    card_id = card_id.replace(\".json\", \"\")\n",
    "\n",
    "    with open(DATA_TCG_FOLDER_PATH + card_id + \".json\") as f:\n",
    "        card_data = json.load(f)\n",
    "    return card_data\n",
    "\n",
    "def load_tcg_image(tcg_data,**kwargs):\n",
    "    RESIZE_SIZES = kwargs.get(\"RESIZE_SIZES\")\n",
    "    RGB_COLOR = kwargs.get(\"RGB_COLOR\")\n",
    "    if RGB_COLOR == None:\n",
    "        RGB_COLOR = True\n",
    "    response = requests.get(tcg_data[\"images\"][\"large\"],headers={\"X-Api-Key\": TCG_POKEMON_API_KEY, 'Accept': 'image/jpg'})\n",
    "    image = Image.open(BytesIO(response.content))\n",
    "    if RESIZE_SIZES:\n",
    "        image = image.resize(RESIZE_SIZES)\n",
    "    if RGB_COLOR == False:\n",
    "        image = ImageOps.grayscale(image)\n",
    "    return image\n",
    "\n"
   ]
  },
  {
   "cell_type": "code",
   "execution_count": 374,
   "id": "2763bf1c",
   "metadata": {},
   "outputs": [],
   "source": [
    "\n",
    "def apply_skew_effect(image, top_left_skew=(0, 0), top_right_skew=(0, 0), bottom_left_skew=(0, 0), bottom_right_skew=(0, 0)):\n",
    "    \n",
    "    # Convertir PIL en OpenCV si nécessaire\n",
    "    if hasattr(image, 'size'):  # C'est une image PIL\n",
    "        # Convertir PIL en array numpy\n",
    "        img_array = np.array(image)\n",
    "        # Convertir RGB en BGR pour OpenCV\n",
    "        if len(img_array.shape) == 3:\n",
    "            img_array = cv2.cvtColor(img_array, cv2.COLOR_RGB2BGR)\n",
    "        image = img_array\n",
    "    \n",
    "    # Maintenant on a un array OpenCV\n",
    "    if len(image.shape) == 3:\n",
    "        height, width, _ = image.shape\n",
    "    else:\n",
    "        height, width = image.shape\n",
    "\n",
    "    # Points d'origine (coins de l'image rectangulaire)\n",
    "    src_points = np.float32([\n",
    "        [0, 0],           # top-left\n",
    "        [width-1, 0],     # top-right\n",
    "        [0, height-1],    # bottom-left\n",
    "        [width-1, height-1] # bottom-right\n",
    "    ])\n",
    "    \n",
    "    # Points de destination (avec déformation personnalisée)\n",
    "    dst_points = np.float32([\n",
    "        # Top-left: position originale + décalage (x, y)\n",
    "        [0 + top_left_skew[0], 0 + top_left_skew[1]],\n",
    "        # Top-right: position originale + décalage (x, y)\n",
    "        [width-1 + top_right_skew[0], 0 + top_right_skew[1]],\n",
    "        # Bottom-left: position originale + décalage (x, y)\n",
    "        [0 + bottom_left_skew[0], height-1 + bottom_left_skew[1]],\n",
    "        # Bottom-right: position originale + décalage (x, y)\n",
    "        [width-1 + bottom_right_skew[0], height-1 + bottom_right_skew[1]]\n",
    "    ])\n",
    "    \n",
    "    # Calculer la matrice de transformation perspective\n",
    "    matrix = cv2.getPerspectiveTransform(src_points, dst_points)\n",
    "    \n",
    "    # Appliquer la transformation\n",
    "    skewed_image = cv2.warpPerspective(image, matrix, (width, height))\n",
    "    \n",
    "    # Préparer les coordonnées finales des angles\n",
    "    final_coordinates = {\n",
    "        'top_left': (int(dst_points[0][0]), int(dst_points[0][1])),\n",
    "        'top_right': (int(dst_points[1][0]), int(dst_points[1][1])),\n",
    "        'bottom_left': (int(dst_points[2][0]), int(dst_points[2][1])),\n",
    "        'bottom_right': (int(dst_points[3][0]), int(dst_points[3][1]))\n",
    "    }\n",
    "    \n",
    "    return skewed_image, final_coordinates\n"
   ]
  },
  {
   "cell_type": "code",
   "execution_count": 432,
   "id": "ab4c2d8d",
   "metadata": {},
   "outputs": [],
   "source": [
    "def generate_tcg_v1_sample(**kwargs):\n",
    "    \n",
    "    \"\"\"\n",
    "        Fonction qui génère une image de Pokémon TCG\n",
    "        \n",
    "        Paramètres :\n",
    "            card_id : ID du Pokémon TCG à générer\n",
    "            max_width_resolution : Largeur maximale de l'image\n",
    "            max_height_resolution : Hauteur maximale de l'image\n",
    "            min_width_resolution : Largeur minimale de l'image\n",
    "            min_height_resolution : Hauteur minimale de l'image\n",
    "            width_resolution : Largeur de l'image aléatoire\n",
    "            height_resolution : Hauteur de l'image aléatoire\n",
    "            top_left_skew : Décalement de la partie haut gauche du Pokémon\n",
    "            top_right_skew : Décalement de la partie haut droite du Pokémon\n",
    "            bottom_left_skew : Décalement de la partie bas gauche du Pokémon\n",
    "            bottom_right_skew : Décalement de la partie bas droite du Pokémon\n",
    "            x_skew_power : Puissance du décalage de la partie gauche du Pokémon\n",
    "            y_skew_power : Puissance du décalage de la partie gauche du Pokémon\n",
    "        \n",
    "        \n",
    "    \"\"\"\n",
    "\n",
    "    card_id = kwargs.get(\"card_id\") or None\n",
    "    tcg_datas = load_tcg_data(card_id=card_id)\n",
    "    tcg_image = load_tcg_image(tcg_datas)\n",
    "\n",
    "    max_width_resolution = kwargs.get(\"max_width_resolution\") or 2000\n",
    "    max_height_resolution = kwargs.get(\"max_height_resolution\") or 2000\n",
    "    min_width_resolution = kwargs.get(\"min_width_resolution\") or tcg_image.width + 50\n",
    "    min_height_resolution = kwargs.get(\"min_height_resolution\") or tcg_image.height + 50\n",
    "\n",
    "    width_resolution = kwargs.get(\"width_resolution\") or random.randrange(min_width_resolution, max_width_resolution)\n",
    "    height_resolution = kwargs.get(\"height_resolution\") or random.randrange(min_height_resolution, max_height_resolution)\n",
    "\n",
    "    \n",
    "    x_skew_power = random.randrange(0,kwargs.get(\"x_skew_power\") or 3)\n",
    "    x_skew_offset = tcg_image.width / 10\n",
    "    y_skew_power = random.randrange(0,kwargs.get(\"y_skew_power\") or 3)\n",
    "    y_skew_offset = tcg_image.height / 10\n",
    "\n",
    "    random_image = load_random_image(RESIZE_SIZES=(width_resolution,height_resolution))\n",
    "    top_left_skew = kwargs.get(\"top_left_skew\") or (randrange(0,int( x_skew_offset * x_skew_power + 1)), randrange(0,int( y_skew_offset * y_skew_power+ 1)))\n",
    "    top_right_skew = kwargs.get(\"top_right_skew\") or (-randrange(0,int( x_skew_offset * x_skew_power+ 1)), randrange(0,int( y_skew_offset * y_skew_power+ 1)))\n",
    "    bottom_left_skew = kwargs.get(\"bottom_left_skew\") or (randrange(0,int( x_skew_offset * x_skew_power+ 1)), -randrange(0,int( y_skew_offset * y_skew_power+ 1)))\n",
    "    bottom_right_skew = kwargs.get(\"bottom_right_skew\") or (-randrange(0,int( x_skew_offset * x_skew_power+ 1)), -randrange(0,int( y_skew_offset * y_skew_power+ 1)))\n",
    "\n",
    "    result1, coords1 = apply_skew_effect(\n",
    "        tcg_image.copy(),\n",
    "        top_left_skew=top_left_skew,    # Décaler vers la droite de 30px, vers le bas de 20px\n",
    "        top_right_skew=top_right_skew,  # Décaler vers la gauche de 15px, vers le bas de 25px\n",
    "        bottom_left_skew=bottom_left_skew, # Décaler vers la droite de 20px, vers le haut de 10px\n",
    "        bottom_right_skew=bottom_right_skew # Décaler vers la gauche de 40px, vers le haut de 30px\n",
    "    )\n",
    "\n",
    "    offset_x = random_image.width - tcg_image.width\n",
    "    offset_y = random_image.height - tcg_image.height\n",
    "\n",
    "    random_offset_x = random.randrange(0,offset_x-1)\n",
    "    random_offset_y = random.randrange(0,offset_y-1)\n",
    "\n",
    "    tmp = cv2.cvtColor(result1, cv2.COLOR_BGR2GRAY)\n",
    "    _,alpha = cv2.threshold(tmp,0,255,cv2.THRESH_BINARY)\n",
    "    b, g, r = cv2.split(result1)\n",
    "    rgba = [b,g,r, alpha]\n",
    "    dst = cv2.merge(rgba,4)\n",
    "    pil_image = Image.fromarray(dst)\n",
    "    random_image.paste(pil_image, (random_offset_x,random_offset_y),pil_image)\n",
    "\n",
    "    top_left_bb = ((random_offset_x + coords1['top_left'][0])/random_image.width, (random_offset_y + coords1['top_left'][1])/random_image.height)\n",
    "    top_right_bb = ((random_offset_x + coords1['top_right'][0])/random_image.width, (random_offset_y + coords1['top_right'][1])/random_image.height)\n",
    "    bottom_left_bb = ((random_offset_x + coords1['bottom_left'][0])/random_image.width, (random_offset_y + coords1['bottom_left'][1])/random_image.height)\n",
    "    bottom_right_bb = ((random_offset_x + coords1['bottom_right'][0])/random_image.width, (random_offset_y + coords1['bottom_right'][1])/random_image.height)\n",
    "    bounding_boxes = (top_left_bb, top_right_bb, bottom_left_bb, bottom_right_bb)\n",
    "    \n",
    "    filename = f\"{tcg_datas[\"id\"]}_{int(time.time())}\"\n",
    "\n",
    "    data = {\n",
    "        \"filename\" : filename,\n",
    "        \"card_id\": tcg_datas[\"id\"],\n",
    "        \"bbox\": bounding_boxes,\n",
    "    }\n",
    "\n",
    "    return data, random_image, filename\n",
    "\n"
   ]
  },
  {
   "cell_type": "code",
   "execution_count": 435,
   "id": "4e162708",
   "metadata": {},
   "outputs": [],
   "source": [
    "def save_tcg_v1_sample():\n",
    "    data, image, filename = generate_tcg_v1_sample()\n",
    "    json.dump(data, open(f\"{GENERATED_DATAS_V1_JSON_FOLDER_PATH}{filename}.json\", \"w\"))\n",
    "    cv2.imwrite(f\"{GENERATED_DATAS_V1_IMAGES_FOLDER_PATH}{filename}.jpg\", np.array(image))\n"
   ]
  },
  {
   "cell_type": "code",
   "execution_count": 436,
   "id": "e485cec1",
   "metadata": {},
   "outputs": [],
   "source": [
    "for i in range(10):\n",
    "    save_tcg_v1_sample()"
   ]
  }
 ],
 "metadata": {
  "kernelspec": {
   "display_name": "tf",
   "language": "python",
   "name": "python3"
  },
  "language_info": {
   "codemirror_mode": {
    "name": "ipython",
    "version": 3
   },
   "file_extension": ".py",
   "mimetype": "text/x-python",
   "name": "python",
   "nbconvert_exporter": "python",
   "pygments_lexer": "ipython3",
   "version": "3.12.11"
  }
 },
 "nbformat": 4,
 "nbformat_minor": 5
}
