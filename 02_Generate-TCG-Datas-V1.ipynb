{
 "cells": [
  {
   "cell_type": "markdown",
   "id": "6825d7eb",
   "metadata": {},
   "source": [
    "# Downloading tcg datas"
   ]
  },
  {
   "cell_type": "markdown",
   "id": "92ee874d",
   "metadata": {},
   "source": [
    "### Imports & Setup the environment"
   ]
  },
  {
   "cell_type": "code",
   "execution_count": 190,
   "id": "e5357f73",
   "metadata": {},
   "outputs": [
    {
     "data": {
      "text/plain": [
       "True"
      ]
     },
     "execution_count": 190,
     "metadata": {},
     "output_type": "execute_result"
    }
   ],
   "source": [
    "# Made on python 3.12\n",
    "\n",
    "import pandas as pd #library for data analysis\n",
    "import numpy as np #library for scientific computing with Python\n",
    "import matplotlib.pyplot as plt #library for creating static, animated, and interactive visualizations\n",
    "from matplotlib.image import imread #library for reading and writing image files\n",
    "import cv2 #Manipulate images and videos,\n",
    "import os #manage files and directories\n",
    "from PIL import Image ,ImageOps # Python Imaging Library adds image processing capabilities to your Python interpreter. \n",
    "from dotenv import load_dotenv #load environment variables from .env file\n",
    "import math #mathematical functions\n",
    "import json #library for working with JSON\n",
    "import requests #library for making HTTP requests\n",
    "import shutil #library for copying and moving files\n",
    "import io\n",
    "import urllib.request\n",
    "import base64\n",
    "from imageio import imread\n",
    "import random\n",
    "\n",
    "\n",
    "load_dotenv()\n"
   ]
  },
  {
   "cell_type": "markdown",
   "id": "aad89dfb",
   "metadata": {},
   "source": [
    "### Global variables"
   ]
  },
  {
   "cell_type": "code",
   "execution_count": 7,
   "id": "f1764553",
   "metadata": {},
   "outputs": [],
   "source": [
    "API_NINJA_API_KEY = os.getenv(\"API_NINJA_API_KEY\")\n",
    "TCG_POKEMON_API_KEY = os.getenv(\"TCG_POKEMON_API_KEY\")\n",
    "TCG_POKEMON_MAX_CARDS_EXISTING = 19501\n",
    "TCG_POKEMON_MAX_POKEMON_PER_PAGE = 250\n",
    "DATA_TCG_FOLDER_PATH = \"data/tcg/\"\n",
    "GENERATED_DATAS_V1_FOLDER_PATH = \"data/generated_datas_v1/\"\n",
    "GENERATED_DATAS_V1_IMAGES_FOLDER_PATH = GENERATED_DATAS_V1_FOLDER_PATH + \"images/\"\n",
    "GENERATED_DATAS_V1_JSON_FOLDER_PATH = GENERATED_DATAS_V1_FOLDER_PATH + \"json/\"\n"
   ]
  },
  {
   "cell_type": "markdown",
   "id": "c75ffce3",
   "metadata": {},
   "source": [
    "### Configuration"
   ]
  },
  {
   "cell_type": "code",
   "execution_count": 9,
   "id": "9f7e549d",
   "metadata": {},
   "outputs": [],
   "source": [
    "if not os.path.exists(GENERATED_DATAS_V1_FOLDER_PATH):\n",
    "    os.makedirs(GENERATED_DATAS_V1_FOLDER_PATH)\n",
    "    print(GENERATED_DATAS_V1_FOLDER_PATH +\" folder created\")\n",
    "\n",
    "if not os.path.exists(GENERATED_DATAS_V1_IMAGES_FOLDER_PATH):\n",
    "    os.makedirs(GENERATED_DATAS_V1_IMAGES_FOLDER_PATH)\n",
    "    print(GENERATED_DATAS_V1_IMAGES_FOLDER_PATH +\" folder created\")\n",
    "\n",
    "if not os.path.exists(GENERATED_DATAS_V1_JSON_FOLDER_PATH):\n",
    "    os.makedirs(GENERATED_DATAS_V1_JSON_FOLDER_PATH)\n",
    "    print(GENERATED_DATAS_V1_JSON_FOLDER_PATH +\" folder created\")"
   ]
  },
  {
   "cell_type": "markdown",
   "id": "4f108bfa",
   "metadata": {},
   "source": [
    "### Load a random image for the background"
   ]
  },
  {
   "cell_type": "code",
   "execution_count": 220,
   "id": "b1fc9437",
   "metadata": {},
   "outputs": [],
   "source": [
    "\n",
    "def load_random_image(**kwargs):\n",
    "    RESIZE_SIZES = kwargs.get(\"RESIZE_SIZES\")\n",
    "    RGB_COLOR = kwargs.get(\"RGB_COLOR\")\n",
    "    if RGB_COLOR == None:\n",
    "        RGB_COLOR = True\n",
    "    response = requests.get(\"https://api.api-ninjas.com/v1/randomimage\",headers={\"X-Api-Key\": API_NINJA_API_KEY, 'Accept': 'image/jpg'})\n",
    "    image = Image.open(BytesIO(response.content))\n",
    "    if RESIZE_SIZES:\n",
    "        image = image.resize(RESIZE_SIZES)\n",
    "    if RGB_COLOR == False:\n",
    "        image = ImageOps.grayscale(image)\n",
    "    return image\n",
    "\n",
    "\n"
   ]
  },
  {
   "cell_type": "code",
   "execution_count": 217,
   "id": "27ca74b3",
   "metadata": {},
   "outputs": [],
   "source": [
    "TCG_CARDS_IDS_LIST = os.listdir(DATA_TCG_FOLDER_PATH)\n",
    "\n",
    "def load_tcg_data(**kwargs):\n",
    "    card_id = kwargs.get(\"card_id\")\n",
    "    if card_id == None:\n",
    "        card_id = random.choice(TCG_CARDS_IDS_LIST)\n",
    "    card_id = card_id.replace(\".json\", \"\")\n",
    "\n",
    "    with open(DATA_TCG_FOLDER_PATH + card_id + \".json\") as f:\n",
    "        card_data = json.load(f)\n",
    "    return card_data\n",
    "\n",
    "def load_tcg_image(tcg_data,**kwargs):\n",
    "    RESIZE_SIZES = kwargs.get(\"RESIZE_SIZES\")\n",
    "    RGB_COLOR = kwargs.get(\"RGB_COLOR\")\n",
    "    if RGB_COLOR == None:\n",
    "        RGB_COLOR = True\n",
    "    response = requests.get(tcg_data[\"images\"][\"large\"],headers={\"X-Api-Key\": TCG_POKEMON_API_KEY, 'Accept': 'image/jpg'})\n",
    "    image = Image.open(BytesIO(response.content))\n",
    "    if RESIZE_SIZES:\n",
    "        image = image.resize(RESIZE_SIZES)\n",
    "    if RGB_COLOR == False:\n",
    "        image = ImageOps.grayscale(image)\n",
    "    return image\n",
    "\n"
   ]
  },
  {
   "cell_type": "code",
   "execution_count": 320,
   "id": "2763bf1c",
   "metadata": {},
   "outputs": [],
   "source": [
    "\n",
    "def apply_skew_effect(image, top_left_skew=(0, 0), top_right_skew=(0, 0), bottom_left_skew=(0, 0), bottom_right_skew=(0, 0)):\n",
    "    \n",
    "    # Convertir PIL en OpenCV si nécessaire\n",
    "    if hasattr(image, 'size'):  # C'est une image PIL\n",
    "        print(\"Image PIL détectée, conversion en OpenCV...\")\n",
    "        # Convertir PIL en array numpy\n",
    "        img_array = np.array(image)\n",
    "        # Convertir RGB en BGR pour OpenCV\n",
    "        if len(img_array.shape) == 3:\n",
    "            img_array = cv2.cvtColor(img_array, cv2.COLOR_RGB2BGR)\n",
    "        image = img_array\n",
    "    \n",
    "    # Maintenant on a un array OpenCV\n",
    "    if len(image.shape) == 3:\n",
    "        height, width, _ = image.shape\n",
    "    else:\n",
    "        height, width = image.shape\n",
    "\n",
    "    print(f\"Dimensions: {height} x {width}\")\n",
    "    \n",
    "    # Points d'origine (coins de l'image rectangulaire)\n",
    "    src_points = np.float32([\n",
    "        [0, 0],           # top-left\n",
    "        [width-1, 0],     # top-right\n",
    "        [0, height-1],    # bottom-left\n",
    "        [width-1, height-1] # bottom-right\n",
    "    ])\n",
    "    \n",
    "    # Points de destination (avec déformation personnalisée)\n",
    "    dst_points = np.float32([\n",
    "        # Top-left: position originale + décalage (x, y)\n",
    "        [0 + top_left_skew[0], 0 + top_left_skew[1]],\n",
    "        # Top-right: position originale + décalage (x, y)\n",
    "        [width-1 + top_right_skew[0], 0 + top_right_skew[1]],\n",
    "        # Bottom-left: position originale + décalage (x, y)\n",
    "        [0 + bottom_left_skew[0], height-1 + bottom_left_skew[1]],\n",
    "        # Bottom-right: position originale + décalage (x, y)\n",
    "        [width-1 + bottom_right_skew[0], height-1 + bottom_right_skew[1]]\n",
    "    ])\n",
    "    \n",
    "    # Calculer la matrice de transformation perspective\n",
    "    matrix = cv2.getPerspectiveTransform(src_points, dst_points)\n",
    "    \n",
    "    # Appliquer la transformation\n",
    "    skewed_image = cv2.warpPerspective(image, matrix, (width, height))\n",
    "    \n",
    "    # Préparer les coordonnées finales des angles\n",
    "    final_coordinates = {\n",
    "        'top_left': (int(dst_points[0][0]), int(dst_points[0][1])),\n",
    "        'top_right': (int(dst_points[1][0]), int(dst_points[1][1])),\n",
    "        'bottom_left': (int(dst_points[2][0]), int(dst_points[2][1])),\n",
    "        'bottom_right': (int(dst_points[3][0]), int(dst_points[3][1]))\n",
    "    }\n",
    "    \n",
    "    print(\"Coordonnées finales des angles:\")\n",
    "    for corner, coords in final_coordinates.items():\n",
    "        print(f\"  {corner}: {coords}\")\n",
    "    \n",
    "    return skewed_image, final_coordinates\n"
   ]
  },
  {
   "cell_type": "code",
   "execution_count": 321,
   "id": "4e162708",
   "metadata": {},
   "outputs": [
    {
     "name": "stdout",
     "output_type": "stream",
     "text": [
      "<class 'PIL.Image.Image'>\n",
      "<class 'PIL.PngImagePlugin.PngImageFile'>\n",
      "Image PIL détectée, conversion en OpenCV...\n",
      "Dimensions: 1024 x 734\n",
      "Coordonnées finales des angles:\n",
      "  top_left: (100, 20)\n",
      "  top_right: (713, 100)\n",
      "  bottom_left: (20, 923)\n",
      "  bottom_right: (633, 1003)\n",
      "<class 'numpy.ndarray'>\n",
      "{'top_left': (100, 20), 'top_right': (713, 100), 'bottom_left': (20, 923), 'bottom_right': (633, 1003)}\n"
     ]
    },
    {
     "data": {
      "text/plain": [
       "True"
      ]
     },
     "execution_count": 321,
     "metadata": {},
     "output_type": "execute_result"
    }
   ],
   "source": [
    "random_image = load_random_image(RESIZE_SIZES=(1200,1500))\n",
    "print(type(random_image))\n",
    "\n",
    "tcg_datas = load_tcg_data()\n",
    "tcg_image = load_tcg_image(tcg_datas)\n",
    "print(type(tcg_image))\n",
    "\n",
    "\n",
    "result1, coords1 = apply_skew_effect(\n",
    "    tcg_image.copy(),\n",
    "    top_left_skew=(100, 20),    # Décaler vers la droite de 30px, vers le bas de 20px\n",
    "    top_right_skew=(-20, 100),  # Décaler vers la gauche de 15px, vers le bas de 25px\n",
    "    bottom_left_skew=(20, -100), # Décaler vers la droite de 20px, vers le haut de 10px\n",
    "    bottom_right_skew=(-100, -20) # Décaler vers la gauche de 40px, vers le haut de 30px\n",
    ")\n",
    "print(type(result1))\n",
    "print(coords1)\n",
    "\n",
    "tmp = cv2.cvtColor(result1, cv2.COLOR_BGR2GRAY)\n",
    "_,alpha = cv2.threshold(tmp,0,255,cv2.THRESH_BINARY)\n",
    "b, g, r = cv2.split(result1)\n",
    "rgba = [b,g,r, alpha]\n",
    "dst = cv2.merge(rgba,4)\n",
    "pil_image = Image.fromarray(dst)\n",
    "random_image.paste(pil_image, (0,0),pil_image)\n",
    "cv2.imwrite(f\"test.jpg\", np.array(random_image))\n",
    "\n"
   ]
  }
 ],
 "metadata": {
  "kernelspec": {
   "display_name": "tf",
   "language": "python",
   "name": "python3"
  },
  "language_info": {
   "codemirror_mode": {
    "name": "ipython",
    "version": 3
   },
   "file_extension": ".py",
   "mimetype": "text/x-python",
   "name": "python",
   "nbconvert_exporter": "python",
   "pygments_lexer": "ipython3",
   "version": "3.12.11"
  }
 },
 "nbformat": 4,
 "nbformat_minor": 5
}
